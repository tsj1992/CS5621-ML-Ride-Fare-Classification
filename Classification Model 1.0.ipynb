{
 "cells": [
  {
   "cell_type": "code",
   "execution_count": 252,
   "metadata": {},
   "outputs": [],
   "source": [
    "import pandas as pd\n",
    "from sklearn.model_selection import train_test_split\n",
    "from sklearn.tree import DecisionTreeClassifier\n",
    "from sklearn.metrics import confusion_matrix\n",
    "from sklearn.tree import DecisionTreeClassifier\n",
    "from sklearn.metrics import accuracy_score"
   ]
  },
  {
   "cell_type": "code",
   "execution_count": 253,
   "metadata": {},
   "outputs": [
    {
     "name": "stdout",
     "output_type": "stream",
     "text": [
      "(17176, 14)\n"
     ]
    },
    {
     "data": {
      "text/plain": [
       "Index(['tripid', 'additional_fare', 'duration', 'meter_waiting',\n",
       "       'meter_waiting_fare', 'meter_waiting_till_pickup', 'pickup_time',\n",
       "       'drop_time', 'pick_lat', 'pick_lon', 'drop_lat', 'drop_lon', 'fare',\n",
       "       'label'],\n",
       "      dtype='object')"
      ]
     },
     "execution_count": 253,
     "metadata": {},
     "output_type": "execute_result"
    }
   ],
   "source": [
    "df = pd.read_csv(\"data/train.csv\")\n",
    "print(df.shape)\n",
    "df.columns"
   ]
  },
  {
   "cell_type": "code",
   "execution_count": 254,
   "metadata": {},
   "outputs": [
    {
     "data": {
      "text/html": [
       "<div>\n",
       "<style scoped>\n",
       "    .dataframe tbody tr th:only-of-type {\n",
       "        vertical-align: middle;\n",
       "    }\n",
       "\n",
       "    .dataframe tbody tr th {\n",
       "        vertical-align: top;\n",
       "    }\n",
       "\n",
       "    .dataframe thead th {\n",
       "        text-align: right;\n",
       "    }\n",
       "</style>\n",
       "<table border=\"1\" class=\"dataframe\">\n",
       "  <thead>\n",
       "    <tr style=\"text-align: right;\">\n",
       "      <th></th>\n",
       "      <th>tripid</th>\n",
       "      <th>additional_fare</th>\n",
       "      <th>duration</th>\n",
       "      <th>meter_waiting</th>\n",
       "      <th>meter_waiting_fare</th>\n",
       "      <th>meter_waiting_till_pickup</th>\n",
       "      <th>pickup_time</th>\n",
       "      <th>drop_time</th>\n",
       "      <th>pick_lat</th>\n",
       "      <th>pick_lon</th>\n",
       "      <th>drop_lat</th>\n",
       "      <th>drop_lon</th>\n",
       "      <th>fare</th>\n",
       "      <th>label</th>\n",
       "    </tr>\n",
       "  </thead>\n",
       "  <tbody>\n",
       "    <tr>\n",
       "      <td>0</td>\n",
       "      <td>189123628</td>\n",
       "      <td>10.5</td>\n",
       "      <td>834.0</td>\n",
       "      <td>56.0</td>\n",
       "      <td>0.0000</td>\n",
       "      <td>64.0</td>\n",
       "      <td>2019-11-01 00:20:00</td>\n",
       "      <td>2019-11-01 00:34:00</td>\n",
       "      <td>6.86252</td>\n",
       "      <td>79.8993</td>\n",
       "      <td>6.90330</td>\n",
       "      <td>79.8783</td>\n",
       "      <td>270.32</td>\n",
       "      <td>correct</td>\n",
       "    </tr>\n",
       "    <tr>\n",
       "      <td>1</td>\n",
       "      <td>189125358</td>\n",
       "      <td>10.5</td>\n",
       "      <td>791.0</td>\n",
       "      <td>47.0</td>\n",
       "      <td>0.0000</td>\n",
       "      <td>134.0</td>\n",
       "      <td>2019-11-01 00:56:00</td>\n",
       "      <td>2019-11-01 01:09:00</td>\n",
       "      <td>6.88589</td>\n",
       "      <td>79.8984</td>\n",
       "      <td>6.91373</td>\n",
       "      <td>79.8923</td>\n",
       "      <td>197.85</td>\n",
       "      <td>correct</td>\n",
       "    </tr>\n",
       "    <tr>\n",
       "      <td>2</td>\n",
       "      <td>189125719</td>\n",
       "      <td>10.5</td>\n",
       "      <td>1087.0</td>\n",
       "      <td>80.0</td>\n",
       "      <td>0.0000</td>\n",
       "      <td>61.0</td>\n",
       "      <td>2019-11-01 01:08:00</td>\n",
       "      <td>2019-11-01 01:26:00</td>\n",
       "      <td>6.90839</td>\n",
       "      <td>79.8651</td>\n",
       "      <td>6.93669</td>\n",
       "      <td>79.9146</td>\n",
       "      <td>301.64</td>\n",
       "      <td>correct</td>\n",
       "    </tr>\n",
       "    <tr>\n",
       "      <td>3</td>\n",
       "      <td>189127273</td>\n",
       "      <td>10.5</td>\n",
       "      <td>598.0</td>\n",
       "      <td>271.0</td>\n",
       "      <td>15.6638</td>\n",
       "      <td>68.0</td>\n",
       "      <td>2019-11-01 02:27:00</td>\n",
       "      <td>2019-11-01 02:37:00</td>\n",
       "      <td>6.92570</td>\n",
       "      <td>79.8895</td>\n",
       "      <td>6.92748</td>\n",
       "      <td>79.8971</td>\n",
       "      <td>82.30</td>\n",
       "      <td>correct</td>\n",
       "    </tr>\n",
       "    <tr>\n",
       "      <td>4</td>\n",
       "      <td>189128020</td>\n",
       "      <td>NaN</td>\n",
       "      <td>NaN</td>\n",
       "      <td>NaN</td>\n",
       "      <td>NaN</td>\n",
       "      <td>NaN</td>\n",
       "      <td>2019-11-01 03:34:00</td>\n",
       "      <td>2019-11-01 03:51:00</td>\n",
       "      <td>6.87441</td>\n",
       "      <td>79.8615</td>\n",
       "      <td>6.84478</td>\n",
       "      <td>79.9290</td>\n",
       "      <td>358.39</td>\n",
       "      <td>correct</td>\n",
       "    </tr>\n",
       "    <tr>\n",
       "      <td>...</td>\n",
       "      <td>...</td>\n",
       "      <td>...</td>\n",
       "      <td>...</td>\n",
       "      <td>...</td>\n",
       "      <td>...</td>\n",
       "      <td>...</td>\n",
       "      <td>...</td>\n",
       "      <td>...</td>\n",
       "      <td>...</td>\n",
       "      <td>...</td>\n",
       "      <td>...</td>\n",
       "      <td>...</td>\n",
       "      <td>...</td>\n",
       "      <td>...</td>\n",
       "    </tr>\n",
       "    <tr>\n",
       "      <td>17171</td>\n",
       "      <td>213803193</td>\n",
       "      <td>10.5</td>\n",
       "      <td>838.0</td>\n",
       "      <td>93.0</td>\n",
       "      <td>5.4219</td>\n",
       "      <td>451.0</td>\n",
       "      <td>2020-01-31 22:07:00</td>\n",
       "      <td>2020-01-31 22:21:00</td>\n",
       "      <td>7.29073</td>\n",
       "      <td>80.6367</td>\n",
       "      <td>7.28891</td>\n",
       "      <td>80.6557</td>\n",
       "      <td>198.26</td>\n",
       "      <td>correct</td>\n",
       "    </tr>\n",
       "    <tr>\n",
       "      <td>17172</td>\n",
       "      <td>213812756</td>\n",
       "      <td>10.5</td>\n",
       "      <td>2151.0</td>\n",
       "      <td>428.0</td>\n",
       "      <td>0.0000</td>\n",
       "      <td>39.0</td>\n",
       "      <td>2020-01-31 23:07:00</td>\n",
       "      <td>2020-01-31 23:43:00</td>\n",
       "      <td>6.90569</td>\n",
       "      <td>79.8516</td>\n",
       "      <td>6.95089</td>\n",
       "      <td>79.9389</td>\n",
       "      <td>581.23</td>\n",
       "      <td>correct</td>\n",
       "    </tr>\n",
       "    <tr>\n",
       "      <td>17173</td>\n",
       "      <td>213813930</td>\n",
       "      <td>10.5</td>\n",
       "      <td>263.0</td>\n",
       "      <td>9.0</td>\n",
       "      <td>0.0000</td>\n",
       "      <td>110.0</td>\n",
       "      <td>2020-01-31 23:21:00</td>\n",
       "      <td>2020-01-31 23:25:00</td>\n",
       "      <td>7.09210</td>\n",
       "      <td>79.9000</td>\n",
       "      <td>7.10135</td>\n",
       "      <td>79.9017</td>\n",
       "      <td>76.20</td>\n",
       "      <td>correct</td>\n",
       "    </tr>\n",
       "    <tr>\n",
       "      <td>17174</td>\n",
       "      <td>213815405</td>\n",
       "      <td>10.5</td>\n",
       "      <td>858.0</td>\n",
       "      <td>115.0</td>\n",
       "      <td>0.0000</td>\n",
       "      <td>317.0</td>\n",
       "      <td>2020-01-31 23:39:00</td>\n",
       "      <td>2020-01-31 23:53:00</td>\n",
       "      <td>6.94540</td>\n",
       "      <td>79.8768</td>\n",
       "      <td>6.93574</td>\n",
       "      <td>79.9010</td>\n",
       "      <td>133.31</td>\n",
       "      <td>correct</td>\n",
       "    </tr>\n",
       "    <tr>\n",
       "      <td>17175</td>\n",
       "      <td>213817296</td>\n",
       "      <td>10.5</td>\n",
       "      <td>262.0</td>\n",
       "      <td>21.0</td>\n",
       "      <td>1.2243</td>\n",
       "      <td>23.0</td>\n",
       "      <td>2020-01-31 23:49:00</td>\n",
       "      <td>2020-01-31 23:53:00</td>\n",
       "      <td>6.90257</td>\n",
       "      <td>79.9557</td>\n",
       "      <td>6.90823</td>\n",
       "      <td>79.9374</td>\n",
       "      <td>98.57</td>\n",
       "      <td>correct</td>\n",
       "    </tr>\n",
       "  </tbody>\n",
       "</table>\n",
       "<p>17176 rows × 14 columns</p>\n",
       "</div>"
      ],
      "text/plain": [
       "          tripid  additional_fare  duration  meter_waiting  \\\n",
       "0      189123628             10.5     834.0           56.0   \n",
       "1      189125358             10.5     791.0           47.0   \n",
       "2      189125719             10.5    1087.0           80.0   \n",
       "3      189127273             10.5     598.0          271.0   \n",
       "4      189128020              NaN       NaN            NaN   \n",
       "...          ...              ...       ...            ...   \n",
       "17171  213803193             10.5     838.0           93.0   \n",
       "17172  213812756             10.5    2151.0          428.0   \n",
       "17173  213813930             10.5     263.0            9.0   \n",
       "17174  213815405             10.5     858.0          115.0   \n",
       "17175  213817296             10.5     262.0           21.0   \n",
       "\n",
       "       meter_waiting_fare  meter_waiting_till_pickup         pickup_time  \\\n",
       "0                  0.0000                       64.0 2019-11-01 00:20:00   \n",
       "1                  0.0000                      134.0 2019-11-01 00:56:00   \n",
       "2                  0.0000                       61.0 2019-11-01 01:08:00   \n",
       "3                 15.6638                       68.0 2019-11-01 02:27:00   \n",
       "4                     NaN                        NaN 2019-11-01 03:34:00   \n",
       "...                   ...                        ...                 ...   \n",
       "17171              5.4219                      451.0 2020-01-31 22:07:00   \n",
       "17172              0.0000                       39.0 2020-01-31 23:07:00   \n",
       "17173              0.0000                      110.0 2020-01-31 23:21:00   \n",
       "17174              0.0000                      317.0 2020-01-31 23:39:00   \n",
       "17175              1.2243                       23.0 2020-01-31 23:49:00   \n",
       "\n",
       "                drop_time  pick_lat  pick_lon  drop_lat  drop_lon    fare  \\\n",
       "0     2019-11-01 00:34:00   6.86252   79.8993   6.90330   79.8783  270.32   \n",
       "1     2019-11-01 01:09:00   6.88589   79.8984   6.91373   79.8923  197.85   \n",
       "2     2019-11-01 01:26:00   6.90839   79.8651   6.93669   79.9146  301.64   \n",
       "3     2019-11-01 02:37:00   6.92570   79.8895   6.92748   79.8971   82.30   \n",
       "4     2019-11-01 03:51:00   6.87441   79.8615   6.84478   79.9290  358.39   \n",
       "...                   ...       ...       ...       ...       ...     ...   \n",
       "17171 2020-01-31 22:21:00   7.29073   80.6367   7.28891   80.6557  198.26   \n",
       "17172 2020-01-31 23:43:00   6.90569   79.8516   6.95089   79.9389  581.23   \n",
       "17173 2020-01-31 23:25:00   7.09210   79.9000   7.10135   79.9017   76.20   \n",
       "17174 2020-01-31 23:53:00   6.94540   79.8768   6.93574   79.9010  133.31   \n",
       "17175 2020-01-31 23:53:00   6.90257   79.9557   6.90823   79.9374   98.57   \n",
       "\n",
       "         label  \n",
       "0      correct  \n",
       "1      correct  \n",
       "2      correct  \n",
       "3      correct  \n",
       "4      correct  \n",
       "...        ...  \n",
       "17171  correct  \n",
       "17172  correct  \n",
       "17173  correct  \n",
       "17174  correct  \n",
       "17175  correct  \n",
       "\n",
       "[17176 rows x 14 columns]"
      ]
     },
     "execution_count": 254,
     "metadata": {},
     "output_type": "execute_result"
    }
   ],
   "source": [
    "df[\"pickup_time\"] = pd.to_datetime(df[\"pickup_time\"], format=\"%m/%d/%Y %H:%M\")\n",
    "df[\"drop_time\"] = pd.to_datetime(df[\"drop_time\"], format=\"%m/%d/%Y %H:%M\")\n",
    "df"
   ]
  },
  {
   "cell_type": "code",
   "execution_count": 255,
   "metadata": {},
   "outputs": [
    {
     "name": "stdout",
     "output_type": "stream",
     "text": [
      "(202, 14)\n",
      "(202, 14)\n",
      "(202, 14)\n",
      "(202, 14)\n",
      "(202, 14)\n",
      "(137, 14)\n"
     ]
    }
   ],
   "source": [
    "print(df[df[\"additional_fare\"].isna()].shape)\n",
    "print(df[df[\"duration\"].isna()].shape)\n",
    "print(df[df[\"meter_waiting\"].isna()].shape)\n",
    "print(df[df[\"meter_waiting_fare\"].isna()].shape)\n",
    "print(df[df[\"meter_waiting_till_pickup\"].isna()].shape)\n",
    "print(df[df[\"fare\"].isna()].shape)"
   ]
  },
  {
   "cell_type": "code",
   "execution_count": 256,
   "metadata": {},
   "outputs": [],
   "source": [
    "df.dropna(inplace=True)"
   ]
  },
  {
   "cell_type": "code",
   "execution_count": 257,
   "metadata": {},
   "outputs": [],
   "source": [
    "df.sort_values(by=[\"tripid\"], ascending=[\"True\"], inplace=True)"
   ]
  },
  {
   "cell_type": "code",
   "execution_count": 258,
   "metadata": {},
   "outputs": [],
   "source": [
    "df.drop([\"pickup_time\", \"drop_time\"], axis=1, inplace=True)"
   ]
  },
  {
   "cell_type": "code",
   "execution_count": 259,
   "metadata": {},
   "outputs": [],
   "source": [
    "x = df.drop(\"label\", axis=1)\n",
    "y = df[\"label\"]"
   ]
  },
  {
   "cell_type": "code",
   "execution_count": 260,
   "metadata": {},
   "outputs": [],
   "source": [
    "x_train, x_test, y_train, y_test = train_test_split(x, y, test_size=0.2)"
   ]
  },
  {
   "cell_type": "code",
   "execution_count": 261,
   "metadata": {},
   "outputs": [],
   "source": [
    "dtClassifier = DecisionTreeClassifier()\n",
    "dtClassifier = dtClassifier.fit(x_train, y_train)"
   ]
  },
  {
   "cell_type": "code",
   "execution_count": 262,
   "metadata": {},
   "outputs": [],
   "source": [
    "y_pred = dtClassifier.predict(x_test)"
   ]
  },
  {
   "cell_type": "code",
   "execution_count": 263,
   "metadata": {},
   "outputs": [
    {
     "name": "stdout",
     "output_type": "stream",
     "text": [
      "[[2920  195]\n",
      " [ 134  145]]\n",
      "0.9030642309958751\n"
     ]
    }
   ],
   "source": [
    "print(confusion_matrix(y_test, y_pred))\n",
    "print(accuracy_score(y_test, y_pred))"
   ]
  },
  {
   "cell_type": "code",
   "execution_count": 264,
   "metadata": {},
   "outputs": [
    {
     "data": {
      "text/plain": [
       "correct      3054\n",
       "incorrect     340\n",
       "Name: prediction, dtype: int64"
      ]
     },
     "execution_count": 264,
     "metadata": {},
     "output_type": "execute_result"
    }
   ],
   "source": [
    "y_pred_df = pd.DataFrame(y_pred, columns=[\"prediction\"])\n",
    "y_pred_df[\"prediction\"].value_counts()"
   ]
  },
  {
   "cell_type": "code",
   "execution_count": 265,
   "metadata": {},
   "outputs": [],
   "source": [
    "pred = pd.DataFrame(y_pred_df[\"prediction\"].replace({\"correct\": \"1\", \"incorrect\": \"0\"}))"
   ]
  },
  {
   "cell_type": "code",
   "execution_count": 266,
   "metadata": {},
   "outputs": [],
   "source": [
    "pred[\"prediction\"] = pred[\"prediction\"].astype(int)"
   ]
  },
  {
   "cell_type": "code",
   "execution_count": 267,
   "metadata": {},
   "outputs": [],
   "source": [
    "pred.set_index(x_test[\"tripid\"], inplace=True)"
   ]
  },
  {
   "cell_type": "code",
   "execution_count": 270,
   "metadata": {},
   "outputs": [],
   "source": [
    "pred.to_csv(\"data\\pred_1_1 - train_only - decision_tree.csv\")"
   ]
  }
 ],
 "metadata": {
  "kernelspec": {
   "display_name": "Python 3",
   "language": "python",
   "name": "python3"
  },
  "language_info": {
   "codemirror_mode": {
    "name": "ipython",
    "version": 3
   },
   "file_extension": ".py",
   "mimetype": "text/x-python",
   "name": "python",
   "nbconvert_exporter": "python",
   "pygments_lexer": "ipython3",
   "version": "3.7.4"
  }
 },
 "nbformat": 4,
 "nbformat_minor": 2
}
