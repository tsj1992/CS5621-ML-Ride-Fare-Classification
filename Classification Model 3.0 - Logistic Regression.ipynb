{
 "cells": [
  {
   "cell_type": "code",
   "execution_count": 136,
   "metadata": {},
   "outputs": [],
   "source": [
    "# The classification task is done in two parts\n",
    "# 1st - train.csv is split into 80-20 train-test proportions and then trained and tested for accuracy\n",
    "# 2nd - train.csv is used to train and prediction is done for test.csv"
   ]
  },
  {
   "cell_type": "code",
   "execution_count": 137,
   "metadata": {},
   "outputs": [],
   "source": [
    "## 1st PART"
   ]
  },
  {
   "cell_type": "code",
   "execution_count": 138,
   "metadata": {},
   "outputs": [],
   "source": [
    "import pandas as pd\n",
    "from sklearn.model_selection import train_test_split\n",
    "from sklearn.linear_model import LogisticRegression\n",
    "from sklearn.metrics import confusion_matrix\n",
    "from sklearn.metrics import accuracy_score"
   ]
  },
  {
   "cell_type": "code",
   "execution_count": 139,
   "metadata": {},
   "outputs": [
    {
     "name": "stdout",
     "output_type": "stream",
     "text": [
      "(17176, 14)\n"
     ]
    },
    {
     "data": {
      "text/plain": [
       "Index(['tripid', 'additional_fare', 'duration', 'meter_waiting',\n",
       "       'meter_waiting_fare', 'meter_waiting_till_pickup', 'pickup_time',\n",
       "       'drop_time', 'pick_lat', 'pick_lon', 'drop_lat', 'drop_lon', 'fare',\n",
       "       'label'],\n",
       "      dtype='object')"
      ]
     },
     "execution_count": 139,
     "metadata": {},
     "output_type": "execute_result"
    }
   ],
   "source": [
    "data_train = pd.read_csv(\"data/train.csv\")\n",
    "print(data_train.shape)\n",
    "data_train.columns"
   ]
  },
  {
   "cell_type": "code",
   "execution_count": 140,
   "metadata": {},
   "outputs": [],
   "source": [
    "data_train[\"pickup_time\"] = pd.to_datetime(data_train[\"pickup_time\"], format=\"%m/%d/%Y %H:%M\")\n",
    "data_train[\"drop_time\"] = pd.to_datetime(data_train[\"drop_time\"], format=\"%m/%d/%Y %H:%M\")"
   ]
  },
  {
   "cell_type": "code",
   "execution_count": 141,
   "metadata": {},
   "outputs": [
    {
     "name": "stdout",
     "output_type": "stream",
     "text": [
      "(202, 14)\n",
      "(202, 14)\n",
      "(202, 14)\n",
      "(202, 14)\n",
      "(202, 14)\n",
      "(137, 14)\n"
     ]
    }
   ],
   "source": [
    "print(data_train[data_train[\"additional_fare\"].isna()].shape)\n",
    "print(data_train[data_train[\"duration\"].isna()].shape)\n",
    "print(data_train[data_train[\"meter_waiting\"].isna()].shape)\n",
    "print(data_train[data_train[\"meter_waiting_fare\"].isna()].shape)\n",
    "print(data_train[data_train[\"meter_waiting_till_pickup\"].isna()].shape)\n",
    "print(data_train[data_train[\"fare\"].isna()].shape)"
   ]
  },
  {
   "cell_type": "code",
   "execution_count": 142,
   "metadata": {},
   "outputs": [],
   "source": [
    "data_train.dropna(inplace=True)"
   ]
  },
  {
   "cell_type": "code",
   "execution_count": 143,
   "metadata": {},
   "outputs": [
    {
     "name": "stdout",
     "output_type": "stream",
     "text": [
      "(0, 14)\n",
      "(0, 14)\n",
      "(0, 14)\n",
      "(0, 14)\n",
      "(0, 14)\n",
      "(0, 14)\n"
     ]
    }
   ],
   "source": [
    "print(data_train[data_train[\"additional_fare\"].isna()].shape)\n",
    "print(data_train[data_train[\"duration\"].isna()].shape)\n",
    "print(data_train[data_train[\"meter_waiting\"].isna()].shape)\n",
    "print(data_train[data_train[\"meter_waiting_fare\"].isna()].shape)\n",
    "print(data_train[data_train[\"meter_waiting_till_pickup\"].isna()].shape)\n",
    "print(data_train[data_train[\"fare\"].isna()].shape)"
   ]
  },
  {
   "cell_type": "code",
   "execution_count": 144,
   "metadata": {},
   "outputs": [],
   "source": [
    "data_train.sort_values(by=[\"tripid\"], ascending=[\"True\"], inplace=True)"
   ]
  },
  {
   "cell_type": "code",
   "execution_count": 145,
   "metadata": {},
   "outputs": [],
   "source": [
    "data_train.drop([\"pickup_time\", \"drop_time\"], axis=1, inplace=True)"
   ]
  },
  {
   "cell_type": "code",
   "execution_count": 146,
   "metadata": {},
   "outputs": [],
   "source": [
    "x = data_train.drop(\"label\", axis=1)\n",
    "y = data_train[\"label\"]"
   ]
  },
  {
   "cell_type": "code",
   "execution_count": 147,
   "metadata": {},
   "outputs": [],
   "source": [
    "x_train, x_test, y_train, y_test = train_test_split(x, y, test_size=0.2)"
   ]
  },
  {
   "cell_type": "code",
   "execution_count": 148,
   "metadata": {},
   "outputs": [
    {
     "name": "stderr",
     "output_type": "stream",
     "text": [
      "C:\\ProgramData\\Anaconda3\\lib\\site-packages\\sklearn\\linear_model\\sag.py:337: ConvergenceWarning: The max_iter was reached which means the coef_ did not converge\n",
      "  \"the coef_ did not converge\", ConvergenceWarning)\n"
     ]
    }
   ],
   "source": [
    "logreg_1 = LogisticRegression(solver=\"saga\")\n",
    "logreg_1 = logreg_1.fit(x_train, y_train)"
   ]
  },
  {
   "cell_type": "code",
   "execution_count": 149,
   "metadata": {},
   "outputs": [],
   "source": [
    "y_pred = logreg_1.predict(x_test)"
   ]
  },
  {
   "cell_type": "code",
   "execution_count": 150,
   "metadata": {},
   "outputs": [
    {
     "name": "stdout",
     "output_type": "stream",
     "text": [
      "[[3076    0]\n",
      " [ 318    0]]\n",
      "0.9063052445492045\n"
     ]
    }
   ],
   "source": [
    "print(confusion_matrix(y_test, y_pred))\n",
    "print(accuracy_score(y_test, y_pred))"
   ]
  },
  {
   "cell_type": "code",
   "execution_count": 151,
   "metadata": {},
   "outputs": [
    {
     "data": {
      "text/plain": [
       "correct    3394\n",
       "Name: prediction, dtype: int64"
      ]
     },
     "execution_count": 151,
     "metadata": {},
     "output_type": "execute_result"
    }
   ],
   "source": [
    "y_pred_df = pd.DataFrame(y_pred, columns=[\"prediction\"])\n",
    "y_pred_df[\"prediction\"].value_counts()"
   ]
  },
  {
   "cell_type": "code",
   "execution_count": 152,
   "metadata": {},
   "outputs": [],
   "source": [
    "pred = pd.DataFrame(y_pred_df[\"prediction\"].replace({\"correct\": \"1\", \"incorrect\": \"0\"}))"
   ]
  },
  {
   "cell_type": "code",
   "execution_count": 153,
   "metadata": {},
   "outputs": [],
   "source": [
    "pred[\"prediction\"] = pred[\"prediction\"].astype(int)"
   ]
  },
  {
   "cell_type": "code",
   "execution_count": 154,
   "metadata": {},
   "outputs": [],
   "source": [
    "pred.set_index(x_test[\"tripid\"], inplace=True)"
   ]
  },
  {
   "cell_type": "code",
   "execution_count": 155,
   "metadata": {},
   "outputs": [],
   "source": [
    "pred.to_csv(\"data\\pred_3_1 - train_only - logistic_regression.csv\")"
   ]
  },
  {
   "cell_type": "code",
   "execution_count": 156,
   "metadata": {},
   "outputs": [],
   "source": [
    "## 2nd PART"
   ]
  },
  {
   "cell_type": "code",
   "execution_count": 157,
   "metadata": {},
   "outputs": [],
   "source": [
    "data_test = pd.read_csv(\"data/test.csv\")"
   ]
  },
  {
   "cell_type": "code",
   "execution_count": 158,
   "metadata": {},
   "outputs": [],
   "source": [
    "data_test.drop([\"pickup_time\", \"drop_time\"], axis=1, inplace=True)"
   ]
  },
  {
   "cell_type": "code",
   "execution_count": 159,
   "metadata": {},
   "outputs": [
    {
     "name": "stdout",
     "output_type": "stream",
     "text": [
      "(0, 11)\n",
      "(0, 11)\n",
      "(0, 11)\n",
      "(0, 11)\n",
      "(0, 11)\n",
      "(0, 11)\n"
     ]
    }
   ],
   "source": [
    "print(data_test[data_test[\"additional_fare\"].isna()].shape)\n",
    "print(data_test[data_test[\"duration\"].isna()].shape)\n",
    "print(data_test[data_test[\"meter_waiting\"].isna()].shape)\n",
    "print(data_test[data_test[\"meter_waiting_fare\"].isna()].shape)\n",
    "print(data_test[data_test[\"meter_waiting_till_pickup\"].isna()].shape)\n",
    "print(data_test[data_test[\"fare\"].isna()].shape)"
   ]
  },
  {
   "cell_type": "code",
   "execution_count": 160,
   "metadata": {},
   "outputs": [],
   "source": [
    "data_test.sort_values(by=[\"tripid\"], ascending=[\"True\"], inplace=True)"
   ]
  },
  {
   "cell_type": "code",
   "execution_count": 161,
   "metadata": {},
   "outputs": [],
   "source": [
    "X_TRAIN = data_train.drop(\"label\", axis=1)\n",
    "Y_TRAIN = data_train[\"label\"]\n",
    "X_PRED = data_test"
   ]
  },
  {
   "cell_type": "code",
   "execution_count": 162,
   "metadata": {},
   "outputs": [],
   "source": [
    "logreg_2 = LogisticRegression(solver=\"lbfgs\")\n",
    "logreg_2 = logreg_2.fit(X_TRAIN, Y_TRAIN)"
   ]
  },
  {
   "cell_type": "code",
   "execution_count": 163,
   "metadata": {},
   "outputs": [],
   "source": [
    "Y_PRED = logreg_2.predict(X_PRED)"
   ]
  },
  {
   "cell_type": "code",
   "execution_count": 164,
   "metadata": {},
   "outputs": [
    {
     "data": {
      "text/plain": [
       "correct    8576\n",
       "Name: prediction, dtype: int64"
      ]
     },
     "execution_count": 164,
     "metadata": {},
     "output_type": "execute_result"
    }
   ],
   "source": [
    "Y_PRED_DF = pd.DataFrame(Y_PRED, columns=[\"prediction\"])\n",
    "Y_PRED_DF[\"prediction\"].value_counts()"
   ]
  },
  {
   "cell_type": "code",
   "execution_count": 165,
   "metadata": {},
   "outputs": [],
   "source": [
    "PRED = pd.DataFrame(Y_PRED_DF[\"prediction\"].replace({\"correct\": \"1\", \"incorrect\": \"0\"}))"
   ]
  },
  {
   "cell_type": "code",
   "execution_count": 166,
   "metadata": {},
   "outputs": [],
   "source": [
    "PRED.set_index(X_PRED[\"tripid\"], inplace=True)"
   ]
  },
  {
   "cell_type": "code",
   "execution_count": 167,
   "metadata": {},
   "outputs": [],
   "source": [
    "PRED.to_csv(\"data\\pred_3_2 - train_test - logistic_regression.csv\")"
   ]
  }
 ],
 "metadata": {
  "kernelspec": {
   "display_name": "Python 3",
   "language": "python",
   "name": "python3"
  },
  "language_info": {
   "codemirror_mode": {
    "name": "ipython",
    "version": 3
   },
   "file_extension": ".py",
   "mimetype": "text/x-python",
   "name": "python",
   "nbconvert_exporter": "python",
   "pygments_lexer": "ipython3",
   "version": "3.7.4"
  }
 },
 "nbformat": 4,
 "nbformat_minor": 2
}
