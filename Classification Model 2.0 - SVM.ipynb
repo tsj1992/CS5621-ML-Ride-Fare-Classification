{
 "cells": [
  {
   "cell_type": "code",
   "execution_count": 56,
   "metadata": {},
   "outputs": [],
   "source": [
    "# The classification task is done in two parts\n",
    "# 1st - train.csv is split into 80-20 train-test proportions and then trained and tested for accuracy\n",
    "# 2nd - train.csv is used to train and prediction is done for test.csv"
   ]
  },
  {
   "cell_type": "code",
   "execution_count": 57,
   "metadata": {},
   "outputs": [],
   "source": [
    "## 1st PART"
   ]
  },
  {
   "cell_type": "code",
   "execution_count": 58,
   "metadata": {},
   "outputs": [],
   "source": [
    "import pandas as pd\n",
    "from sklearn.model_selection import train_test_split\n",
    "from sklearn.svm import SVC\n",
    "from sklearn.metrics import confusion_matrix\n",
    "from sklearn.metrics import accuracy_score"
   ]
  },
  {
   "cell_type": "code",
   "execution_count": 59,
   "metadata": {},
   "outputs": [
    {
     "name": "stdout",
     "output_type": "stream",
     "text": [
      "(17176, 14)\n"
     ]
    },
    {
     "data": {
      "text/plain": [
       "Index(['tripid', 'additional_fare', 'duration', 'meter_waiting',\n",
       "       'meter_waiting_fare', 'meter_waiting_till_pickup', 'pickup_time',\n",
       "       'drop_time', 'pick_lat', 'pick_lon', 'drop_lat', 'drop_lon', 'fare',\n",
       "       'label'],\n",
       "      dtype='object')"
      ]
     },
     "execution_count": 59,
     "metadata": {},
     "output_type": "execute_result"
    }
   ],
   "source": [
    "data_train = pd.read_csv(\"data/train.csv\")\n",
    "print(data_train.shape)\n",
    "data_train.columns"
   ]
  },
  {
   "cell_type": "code",
   "execution_count": 60,
   "metadata": {},
   "outputs": [],
   "source": [
    "data_train[\"pickup_time\"] = pd.to_datetime(data_train[\"pickup_time\"], format=\"%m/%d/%Y %H:%M\")\n",
    "data_train[\"drop_time\"] = pd.to_datetime(data_train[\"drop_time\"], format=\"%m/%d/%Y %H:%M\")"
   ]
  },
  {
   "cell_type": "code",
   "execution_count": 61,
   "metadata": {},
   "outputs": [
    {
     "name": "stdout",
     "output_type": "stream",
     "text": [
      "(202, 14)\n",
      "(202, 14)\n",
      "(202, 14)\n",
      "(202, 14)\n",
      "(202, 14)\n",
      "(137, 14)\n"
     ]
    }
   ],
   "source": [
    "print(data_train[data_train[\"additional_fare\"].isna()].shape)\n",
    "print(data_train[data_train[\"duration\"].isna()].shape)\n",
    "print(data_train[data_train[\"meter_waiting\"].isna()].shape)\n",
    "print(data_train[data_train[\"meter_waiting_fare\"].isna()].shape)\n",
    "print(data_train[data_train[\"meter_waiting_till_pickup\"].isna()].shape)\n",
    "print(data_train[data_train[\"fare\"].isna()].shape)"
   ]
  },
  {
   "cell_type": "code",
   "execution_count": 62,
   "metadata": {},
   "outputs": [],
   "source": [
    "data_train.dropna(inplace=True)"
   ]
  },
  {
   "cell_type": "code",
   "execution_count": 63,
   "metadata": {},
   "outputs": [
    {
     "name": "stdout",
     "output_type": "stream",
     "text": [
      "(0, 14)\n",
      "(0, 14)\n",
      "(0, 14)\n",
      "(0, 14)\n",
      "(0, 14)\n",
      "(0, 14)\n"
     ]
    }
   ],
   "source": [
    "print(data_train[data_train[\"additional_fare\"].isna()].shape)\n",
    "print(data_train[data_train[\"duration\"].isna()].shape)\n",
    "print(data_train[data_train[\"meter_waiting\"].isna()].shape)\n",
    "print(data_train[data_train[\"meter_waiting_fare\"].isna()].shape)\n",
    "print(data_train[data_train[\"meter_waiting_till_pickup\"].isna()].shape)\n",
    "print(data_train[data_train[\"fare\"].isna()].shape)"
   ]
  },
  {
   "cell_type": "code",
   "execution_count": 64,
   "metadata": {},
   "outputs": [],
   "source": [
    "data_train.sort_values(by=[\"tripid\"], ascending=[\"True\"], inplace=True)"
   ]
  },
  {
   "cell_type": "code",
   "execution_count": 65,
   "metadata": {},
   "outputs": [],
   "source": [
    "data_train.drop([\"pickup_time\", \"drop_time\"], axis=1, inplace=True)"
   ]
  },
  {
   "cell_type": "code",
   "execution_count": 66,
   "metadata": {},
   "outputs": [],
   "source": [
    "x = data_train.drop(\"label\", axis=1)\n",
    "y = data_train[\"label\"]"
   ]
  },
  {
   "cell_type": "code",
   "execution_count": 67,
   "metadata": {},
   "outputs": [],
   "source": [
    "x_train, x_test, y_train, y_test = train_test_split(x, y, test_size=0.2)"
   ]
  },
  {
   "cell_type": "code",
   "execution_count": 68,
   "metadata": {},
   "outputs": [],
   "source": [
    "svm_1 = SVC(gamma=\"scale\")\n",
    "svm_1 = svm_1.fit(x_train, y_train)"
   ]
  },
  {
   "cell_type": "code",
   "execution_count": 69,
   "metadata": {},
   "outputs": [],
   "source": [
    "y_pred = svm_1.predict(x_test)"
   ]
  },
  {
   "cell_type": "code",
   "execution_count": 70,
   "metadata": {},
   "outputs": [
    {
     "name": "stdout",
     "output_type": "stream",
     "text": [
      "[[3074    0]\n",
      " [ 320    0]]\n",
      "0.90571596935769\n"
     ]
    }
   ],
   "source": [
    "print(confusion_matrix(y_test, y_pred))\n",
    "print(accuracy_score(y_test, y_pred))"
   ]
  },
  {
   "cell_type": "code",
   "execution_count": 71,
   "metadata": {},
   "outputs": [
    {
     "data": {
      "text/plain": [
       "correct    3394\n",
       "Name: prediction, dtype: int64"
      ]
     },
     "execution_count": 71,
     "metadata": {},
     "output_type": "execute_result"
    }
   ],
   "source": [
    "y_pred_df = pd.DataFrame(y_pred, columns=[\"prediction\"])\n",
    "y_pred_df[\"prediction\"].value_counts()"
   ]
  },
  {
   "cell_type": "code",
   "execution_count": 72,
   "metadata": {},
   "outputs": [],
   "source": [
    "pred = pd.DataFrame(y_pred_df[\"prediction\"].replace({\"correct\": \"1\", \"incorrect\": \"0\"}))"
   ]
  },
  {
   "cell_type": "code",
   "execution_count": 73,
   "metadata": {},
   "outputs": [],
   "source": [
    "pred[\"prediction\"] = pred[\"prediction\"].astype(int)"
   ]
  },
  {
   "cell_type": "code",
   "execution_count": 74,
   "metadata": {},
   "outputs": [],
   "source": [
    "pred.set_index(x_test[\"tripid\"], inplace=True)"
   ]
  },
  {
   "cell_type": "code",
   "execution_count": 75,
   "metadata": {},
   "outputs": [],
   "source": [
    "pred.to_csv(\"data\\pred_2_1 - train_only - svm.csv\")"
   ]
  },
  {
   "cell_type": "code",
   "execution_count": 76,
   "metadata": {},
   "outputs": [],
   "source": [
    "## 2nd PART"
   ]
  },
  {
   "cell_type": "code",
   "execution_count": 77,
   "metadata": {},
   "outputs": [],
   "source": [
    "data_test = pd.read_csv(\"data/test.csv\")"
   ]
  },
  {
   "cell_type": "code",
   "execution_count": 78,
   "metadata": {},
   "outputs": [],
   "source": [
    "data_test.drop([\"pickup_time\", \"drop_time\"], axis=1, inplace=True)"
   ]
  },
  {
   "cell_type": "code",
   "execution_count": 79,
   "metadata": {},
   "outputs": [
    {
     "name": "stdout",
     "output_type": "stream",
     "text": [
      "(0, 11)\n",
      "(0, 11)\n",
      "(0, 11)\n",
      "(0, 11)\n",
      "(0, 11)\n",
      "(0, 11)\n"
     ]
    }
   ],
   "source": [
    "print(data_test[data_test[\"additional_fare\"].isna()].shape)\n",
    "print(data_test[data_test[\"duration\"].isna()].shape)\n",
    "print(data_test[data_test[\"meter_waiting\"].isna()].shape)\n",
    "print(data_test[data_test[\"meter_waiting_fare\"].isna()].shape)\n",
    "print(data_test[data_test[\"meter_waiting_till_pickup\"].isna()].shape)\n",
    "print(data_test[data_test[\"fare\"].isna()].shape)"
   ]
  },
  {
   "cell_type": "code",
   "execution_count": 80,
   "metadata": {},
   "outputs": [],
   "source": [
    "data_test.sort_values(by=[\"tripid\"], ascending=[\"True\"], inplace=True)"
   ]
  },
  {
   "cell_type": "code",
   "execution_count": 81,
   "metadata": {},
   "outputs": [],
   "source": [
    "X_TRAIN = data_train.drop(\"label\", axis=1)\n",
    "Y_TRAIN = data_train[\"label\"]\n",
    "X_PRED = data_test"
   ]
  },
  {
   "cell_type": "code",
   "execution_count": 82,
   "metadata": {},
   "outputs": [],
   "source": [
    "svm_2 = SVC(gamma=\"scale\")\n",
    "svm_2 = svm_2.fit(X_TRAIN, Y_TRAIN)"
   ]
  },
  {
   "cell_type": "code",
   "execution_count": 83,
   "metadata": {},
   "outputs": [],
   "source": [
    "Y_PRED = svm_2.predict(X_PRED)"
   ]
  },
  {
   "cell_type": "code",
   "execution_count": 84,
   "metadata": {},
   "outputs": [
    {
     "data": {
      "text/plain": [
       "correct    8576\n",
       "Name: prediction, dtype: int64"
      ]
     },
     "execution_count": 84,
     "metadata": {},
     "output_type": "execute_result"
    }
   ],
   "source": [
    "Y_PRED_DF = pd.DataFrame(Y_PRED, columns=[\"prediction\"])\n",
    "Y_PRED_DF[\"prediction\"].value_counts()"
   ]
  },
  {
   "cell_type": "code",
   "execution_count": 85,
   "metadata": {},
   "outputs": [],
   "source": [
    "PRED = pd.DataFrame(Y_PRED_DF[\"prediction\"].replace({\"correct\": \"1\", \"incorrect\": \"0\"}))"
   ]
  },
  {
   "cell_type": "code",
   "execution_count": 86,
   "metadata": {},
   "outputs": [],
   "source": [
    "PRED.set_index(X_PRED[\"tripid\"], inplace=True)"
   ]
  },
  {
   "cell_type": "code",
   "execution_count": 87,
   "metadata": {},
   "outputs": [],
   "source": [
    "PRED.to_csv(\"data\\pred_2_2 - train_test - svm.csv\")"
   ]
  }
 ],
 "metadata": {
  "kernelspec": {
   "display_name": "Python 3",
   "language": "python",
   "name": "python3"
  },
  "language_info": {
   "codemirror_mode": {
    "name": "ipython",
    "version": 3
   },
   "file_extension": ".py",
   "mimetype": "text/x-python",
   "name": "python",
   "nbconvert_exporter": "python",
   "pygments_lexer": "ipython3",
   "version": "3.7.4"
  }
 },
 "nbformat": 4,
 "nbformat_minor": 2
}
