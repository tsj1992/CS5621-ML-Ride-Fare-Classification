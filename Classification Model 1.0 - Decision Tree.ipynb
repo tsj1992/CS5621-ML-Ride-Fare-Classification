{
 "cells": [
  {
   "cell_type": "code",
   "execution_count": null,
   "metadata": {},
   "outputs": [],
   "source": [
    "# The classification task is done in two parts\n",
    "# 1st - train.csv is split into 80-20 train-test proportions and then trained and tested for accuracy\n",
    "# 2nd - train.csv is used to train and prediction is done for test.csv"
   ]
  },
  {
   "cell_type": "code",
   "execution_count": null,
   "metadata": {},
   "outputs": [],
   "source": [
    "## 1st PART"
   ]
  },
  {
   "cell_type": "code",
   "execution_count": null,
   "metadata": {},
   "outputs": [],
   "source": [
    "import pandas as pd\n",
    "from sklearn.model_selection import train_test_split\n",
    "from sklearn.tree import DecisionTreeClassifier\n",
    "from sklearn.metrics import confusion_matrix\n",
    "from sklearn.metrics import accuracy_score\n",
    "from sklearn.metrics import f1_score"
   ]
  },
  {
   "cell_type": "code",
   "execution_count": null,
   "metadata": {},
   "outputs": [],
   "source": [
    "data_train = pd.read_csv(\"data/train.csv\")\n",
    "print(data_train.shape)\n",
    "data_train.columns"
   ]
  },
  {
   "cell_type": "code",
   "execution_count": null,
   "metadata": {},
   "outputs": [],
   "source": [
    "data_train[\"pickup_time\"] = pd.to_datetime(data_train[\"pickup_time\"], format=\"%m/%d/%Y %H:%M\")\n",
    "data_train[\"drop_time\"] = pd.to_datetime(data_train[\"drop_time\"], format=\"%m/%d/%Y %H:%M\")"
   ]
  },
  {
   "cell_type": "code",
   "execution_count": null,
   "metadata": {},
   "outputs": [],
   "source": [
    "print(data_train[data_train[\"additional_fare\"].isna()].shape)\n",
    "print(data_train[data_train[\"duration\"].isna()].shape)\n",
    "print(data_train[data_train[\"meter_waiting\"].isna()].shape)\n",
    "print(data_train[data_train[\"meter_waiting_fare\"].isna()].shape)\n",
    "print(data_train[data_train[\"meter_waiting_till_pickup\"].isna()].shape)\n",
    "print(data_train[data_train[\"fare\"].isna()].shape)"
   ]
  },
  {
   "cell_type": "code",
   "execution_count": null,
   "metadata": {},
   "outputs": [],
   "source": [
    "data_train.dropna(inplace=True)"
   ]
  },
  {
   "cell_type": "code",
   "execution_count": null,
   "metadata": {},
   "outputs": [],
   "source": [
    "print(data_train[data_train[\"additional_fare\"].isna()].shape)\n",
    "print(data_train[data_train[\"duration\"].isna()].shape)\n",
    "print(data_train[data_train[\"meter_waiting\"].isna()].shape)\n",
    "print(data_train[data_train[\"meter_waiting_fare\"].isna()].shape)\n",
    "print(data_train[data_train[\"meter_waiting_till_pickup\"].isna()].shape)\n",
    "print(data_train[data_train[\"fare\"].isna()].shape)"
   ]
  },
  {
   "cell_type": "code",
   "execution_count": null,
   "metadata": {},
   "outputs": [],
   "source": [
    "data_train.sort_values(by=[\"tripid\"], ascending=[\"True\"], inplace=True)"
   ]
  },
  {
   "cell_type": "code",
   "execution_count": null,
   "metadata": {},
   "outputs": [],
   "source": [
    "data_train.drop([\"pickup_time\", \"drop_time\"], axis=1, inplace=True)"
   ]
  },
  {
   "cell_type": "code",
   "execution_count": null,
   "metadata": {},
   "outputs": [],
   "source": [
    "x = data_train.drop(\"label\", axis=1)\n",
    "y = data_train[\"label\"]"
   ]
  },
  {
   "cell_type": "code",
   "execution_count": null,
   "metadata": {},
   "outputs": [],
   "source": [
    "x_train, x_test, y_train, y_test = train_test_split(x, y, test_size=0.2)"
   ]
  },
  {
   "cell_type": "code",
   "execution_count": null,
   "metadata": {},
   "outputs": [],
   "source": [
    "dtc_1 = DecisionTreeClassifier()\n",
    "dtc_1 = dtc_1.fit(x_train, y_train)"
   ]
  },
  {
   "cell_type": "code",
   "execution_count": null,
   "metadata": {},
   "outputs": [],
   "source": [
    "y_pred = dtc_1.predict(x_test)"
   ]
  },
  {
   "cell_type": "code",
   "execution_count": null,
   "metadata": {},
   "outputs": [],
   "source": [
    "print(confusion_matrix(y_test, y_pred))\n",
    "print(accuracy_score(y_test, y_pred))\n",
    "print(f1_score(y_test, y_pred, average=\"macro\"))"
   ]
  },
  {
   "cell_type": "code",
   "execution_count": null,
   "metadata": {},
   "outputs": [],
   "source": [
    "y_pred_df = pd.DataFrame(y_pred, columns=[\"prediction\"])\n",
    "y_pred_df[\"prediction\"].value_counts()"
   ]
  },
  {
   "cell_type": "code",
   "execution_count": null,
   "metadata": {},
   "outputs": [],
   "source": [
    "pred = pd.DataFrame(y_pred_df[\"prediction\"].replace({\"correct\": \"1\", \"incorrect\": \"0\"}))"
   ]
  },
  {
   "cell_type": "code",
   "execution_count": null,
   "metadata": {},
   "outputs": [],
   "source": [
    "pred[\"prediction\"] = pred[\"prediction\"].astype(int)"
   ]
  },
  {
   "cell_type": "code",
   "execution_count": null,
   "metadata": {},
   "outputs": [],
   "source": [
    "pred.set_index(x_test[\"tripid\"], inplace=True)"
   ]
  },
  {
   "cell_type": "code",
   "execution_count": null,
   "metadata": {},
   "outputs": [],
   "source": [
    "pred.to_csv(\"data\\pred_1_1 - train_only - decision_tree.csv\")"
   ]
  },
  {
   "cell_type": "code",
   "execution_count": null,
   "metadata": {},
   "outputs": [],
   "source": [
    "## 2nd PART"
   ]
  },
  {
   "cell_type": "code",
   "execution_count": null,
   "metadata": {},
   "outputs": [],
   "source": [
    "data_test = pd.read_csv(\"data/test.csv\")"
   ]
  },
  {
   "cell_type": "code",
   "execution_count": null,
   "metadata": {},
   "outputs": [],
   "source": [
    "data_test.drop([\"pickup_time\", \"drop_time\"], axis=1, inplace=True)"
   ]
  },
  {
   "cell_type": "code",
   "execution_count": null,
   "metadata": {},
   "outputs": [],
   "source": [
    "print(data_test[data_test[\"additional_fare\"].isna()].shape)\n",
    "print(data_test[data_test[\"duration\"].isna()].shape)\n",
    "print(data_test[data_test[\"meter_waiting\"].isna()].shape)\n",
    "print(data_test[data_test[\"meter_waiting_fare\"].isna()].shape)\n",
    "print(data_test[data_test[\"meter_waiting_till_pickup\"].isna()].shape)\n",
    "print(data_test[data_test[\"fare\"].isna()].shape)"
   ]
  },
  {
   "cell_type": "code",
   "execution_count": null,
   "metadata": {},
   "outputs": [],
   "source": [
    "data_test.sort_values(by=[\"tripid\"], ascending=[\"True\"], inplace=True)"
   ]
  },
  {
   "cell_type": "code",
   "execution_count": null,
   "metadata": {},
   "outputs": [],
   "source": [
    "X_TRAIN = data_train.drop(\"label\", axis=1)\n",
    "Y_TRAIN = data_train[\"label\"]\n",
    "X_PRED = data_test"
   ]
  },
  {
   "cell_type": "code",
   "execution_count": null,
   "metadata": {},
   "outputs": [],
   "source": [
    "dtc_2 = DecisionTreeClassifier()\n",
    "dtc_2 = dtc_2.fit(X_TRAIN, Y_TRAIN)"
   ]
  },
  {
   "cell_type": "code",
   "execution_count": null,
   "metadata": {},
   "outputs": [],
   "source": [
    "Y_PRED = dtc_2.predict(X_PRED)"
   ]
  },
  {
   "cell_type": "code",
   "execution_count": null,
   "metadata": {},
   "outputs": [],
   "source": [
    "Y_PRED_DF = pd.DataFrame(Y_PRED, columns=[\"prediction\"])\n",
    "Y_PRED_DF[\"prediction\"].value_counts()"
   ]
  },
  {
   "cell_type": "code",
   "execution_count": null,
   "metadata": {},
   "outputs": [],
   "source": [
    "PRED = pd.DataFrame(Y_PRED_DF[\"prediction\"].replace({\"correct\": \"1\", \"incorrect\": \"0\"}))"
   ]
  },
  {
   "cell_type": "code",
   "execution_count": null,
   "metadata": {},
   "outputs": [],
   "source": [
    "PRED.set_index(X_PRED[\"tripid\"], inplace=True)"
   ]
  },
  {
   "cell_type": "code",
   "execution_count": null,
   "metadata": {},
   "outputs": [],
   "source": [
    "PRED.to_csv(\"data\\pred_1_2 - train_test - decision_tree.csv\") "
   ]
  }
 ],
 "metadata": {
  "kernelspec": {
   "display_name": "Python 3",
   "language": "python",
   "name": "python3"
  },
  "language_info": {
   "codemirror_mode": {
    "name": "ipython",
    "version": 3
   },
   "file_extension": ".py",
   "mimetype": "text/x-python",
   "name": "python",
   "nbconvert_exporter": "python",
   "pygments_lexer": "ipython3",
   "version": "3.7.4"
  }
 },
 "nbformat": 4,
 "nbformat_minor": 2
}
